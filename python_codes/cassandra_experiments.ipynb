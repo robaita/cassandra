{
 "cells": [
  {
   "cell_type": "code",
   "execution_count": 1,
   "id": "bfc9f111",
   "metadata": {},
   "outputs": [],
   "source": [
    "# !pip install cassandra-driver\n"
   ]
  },
  {
   "cell_type": "markdown",
   "id": "ad26cd52",
   "metadata": {},
   "source": [
    "# Connect to Cassandra and Create Keyspace & Table"
   ]
  },
  {
   "cell_type": "code",
   "execution_count": 2,
   "id": "567f9bdf",
   "metadata": {},
   "outputs": [
    {
     "name": "stdout",
     "output_type": "stream",
     "text": [
      "Connected to Cassandra!\n"
     ]
    }
   ],
   "source": [
    "from cassandra.cluster import Cluster\n",
    "from cassandra.auth import PlainTextAuthProvider\n",
    "\n",
    "# Optional: If your Cassandra requires authentication\n",
    "# auth_provider = PlainTextAuthProvider(username='cassandra', password='cassandra')\n",
    "# cluster = Cluster(['127.0.0.1'], auth_provider=auth_provider)\n",
    "\n",
    "# For default local setup\n",
    "cluster = Cluster(['127.0.0.1'])  # Replace with your IP\n",
    "session = cluster.connect()\n",
    "\n",
    "print(\"Connected to Cassandra!\")\n"
   ]
  },
  {
   "cell_type": "markdown",
   "id": "7a59eadf",
   "metadata": {},
   "source": [
    "# Create Keyspace and Table"
   ]
  },
  {
   "cell_type": "code",
   "execution_count": 3,
   "id": "099c05f8",
   "metadata": {},
   "outputs": [
    {
     "name": "stdout",
     "output_type": "stream",
     "text": [
      "Keyspace and table created successfully!\n"
     ]
    }
   ],
   "source": [
    "import uuid\n",
    "\n",
    "# Create keyspace\n",
    "session.execute(\"\"\"\n",
    "    CREATE KEYSPACE IF NOT EXISTS college\n",
    "    WITH replication = {'class': 'SimpleStrategy', 'replication_factor': 1}\n",
    "\"\"\")\n",
    "\n",
    "# Use keyspace\n",
    "session.set_keyspace('college')\n",
    "\n",
    "# Create student table\n",
    "session.execute(\"\"\"\n",
    "    CREATE TABLE IF NOT EXISTS student (\n",
    "        student_id UUID PRIMARY KEY,\n",
    "        name TEXT,\n",
    "        email TEXT,\n",
    "        mobile TEXT,\n",
    "        photo TEXT\n",
    "    )\n",
    "\"\"\")\n",
    "\n",
    "print(\"Keyspace and table created successfully!\")"
   ]
  },
  {
   "cell_type": "markdown",
   "id": "eba5aaa7",
   "metadata": {},
   "source": [
    "# Insert data in the table"
   ]
  },
  {
   "cell_type": "code",
   "execution_count": 4,
   "id": "3b7e8010",
   "metadata": {},
   "outputs": [
    {
     "name": "stdout",
     "output_type": "stream",
     "text": [
      "✅ 10 student records inserted successfully.\n"
     ]
    }
   ],
   "source": [
    "# List of 10 realistic student records\n",
    "students = [\n",
    "    (\"Aarav Sharma\",     \"aarav.sharma@example.com\",    \"+919876543210\", \"/photos/aarav.jpg\"),\n",
    "    (\"Isha Patel\",       \"isha.patel@example.com\",      \"+919812345678\", \"/photos/isha.jpg\"),\n",
    "    (\"Rahul Mehta\",      \"rahul.mehta@example.com\",     \"+918765432198\", \"/photos/rahul.jpg\"),\n",
    "    (\"Sneha Reddy\",      \"sneha.reddy@example.com\",     \"+917894561230\", \"/photos/sneha.jpg\"),\n",
    "    (\"Vivaan Singh\",     \"vivaan.singh@example.com\",    \"+916789012345\", \"/photos/vivaan.jpg\"),\n",
    "    (\"Ananya Desai\",     \"ananya.desai@example.com\",    \"+918901234567\", \"/photos/ananya.jpg\"),\n",
    "    (\"Kunal Verma\",      \"kunal.verma@example.com\",     \"+917856341290\", \"/photos/kunal.jpg\"),\n",
    "    (\"Pooja Joshi\",      \"pooja.joshi@example.com\",     \"+919067854321\", \"/photos/pooja.jpg\"),\n",
    "    (\"Rohan Gupta\",      \"rohan.gupta@example.com\",     \"+918765120934\", \"/photos/rohan.jpg\"),\n",
    "    (\"Meera Nair\",       \"meera.nair@example.com\",      \"+919098765432\", \"/photos/meera.jpg\")\n",
    "]\n",
    "\n",
    "# Insert into table\n",
    "insert_query = session.prepare(\"\"\"\n",
    "    INSERT INTO student (student_id, name, email, mobile, photo)\n",
    "    VALUES (?, ?, ?, ?, ?)\n",
    "\"\"\")\n",
    "\n",
    "for name, email, mobile, photo in students:\n",
    "    session.execute(insert_query, (uuid.uuid4(), name, email, mobile, photo))\n",
    "\n",
    "print(\"✅ 10 student records inserted successfully.\")\n"
   ]
  },
  {
   "cell_type": "markdown",
   "id": "ab92071d",
   "metadata": {},
   "source": [
    "# Retrieve data from table"
   ]
  },
  {
   "cell_type": "code",
   "execution_count": 5,
   "id": "2c2b3c71",
   "metadata": {},
   "outputs": [
    {
     "name": "stdout",
     "output_type": "stream",
     "text": [
      "Student ID b6224bdb-5a17-4849-adbb-5b8bda58ad55\n",
      "Name: Ananya Desai\n",
      "Email: ananya.desai@example.com\n",
      "Mobile: +918901234567\n",
      "Photo: /photos/ananya.jpg\n",
      "------------------------------------------------------------------------------------------------------------------------\n",
      "Student ID 34d8b41c-d782-4d31-9104-e682910a4edd\n",
      "Name: Rahul Mehta\n",
      "Email: rahul.mehta@example.com\n",
      "Mobile: +918765432198\n",
      "Photo: /photos/rahul.jpg\n",
      "------------------------------------------------------------------------------------------------------------------------\n",
      "Student ID 7016c976-5a2a-4678-9c33-4b415eaa31e8\n",
      "Name: Isha Patel\n",
      "Email: isha.patel@example.com\n",
      "Mobile: +919812345678\n",
      "Photo: /photos/isha.jpg\n",
      "------------------------------------------------------------------------------------------------------------------------\n",
      "Student ID 5560a525-934c-4d02-8dd7-04f7b2f1c967\n",
      "Name: Vivaan Singh\n",
      "Email: vivaan.singh@example.com\n",
      "Mobile: +916789012345\n",
      "Photo: /photos/vivaan.jpg\n",
      "------------------------------------------------------------------------------------------------------------------------\n",
      "Student ID 8ef6ae99-e2f5-4d84-848d-faf8a347917e\n",
      "Name: Sneha Reddy\n",
      "Email: sneha.reddy@example.com\n",
      "Mobile: +917894561230\n",
      "Photo: /photos/sneha.jpg\n",
      "------------------------------------------------------------------------------------------------------------------------\n",
      "Student ID c51d4b09-d7b9-4976-9ade-5b3b958574a3\n",
      "Name: Isha Patel\n",
      "Email: isha.patel@example.com\n",
      "Mobile: +919812345678\n",
      "Photo: /photos/isha.jpg\n",
      "------------------------------------------------------------------------------------------------------------------------\n",
      "Student ID 8e7997f0-c70e-4fee-9041-fa9da50d3b1f\n",
      "Name: Rahul Mehta\n",
      "Email: rahul.mehta@example.com\n",
      "Mobile: +918765432198\n",
      "Photo: /photos/rahul.jpg\n",
      "------------------------------------------------------------------------------------------------------------------------\n",
      "Student ID 0db65403-260f-4948-b019-558425710f63\n",
      "Name: Kunal Verma\n",
      "Email: kunal.verma@example.com\n",
      "Mobile: +917856341290\n",
      "Photo: /photos/kunal.jpg\n",
      "------------------------------------------------------------------------------------------------------------------------\n",
      "Student ID 3e23429a-1a37-4bf1-b693-98e9335f1e19\n",
      "Name: Kunal Verma\n",
      "Email: kunal.verma@example.com\n",
      "Mobile: +917856341290\n",
      "Photo: /photos/kunal.jpg\n",
      "------------------------------------------------------------------------------------------------------------------------\n",
      "Student ID 966c6569-42be-4cfe-8fb3-e4f1f6c99d26\n",
      "Name: Aarav Sharma\n",
      "Email: aarav.sharma@example.com\n",
      "Mobile: +919876543210\n",
      "Photo: /photos/aarav.jpg\n",
      "------------------------------------------------------------------------------------------------------------------------\n"
     ]
    }
   ],
   "source": [
    "rows = session.execute(\"SELECT * FROM student LIMIT 10\")\n",
    "for row in rows:\n",
    "    print(\"Student ID\",row.student_id)\n",
    "    print(\"Name:\",row.name)\n",
    "    print(\"Email:\",row.email)\n",
    "    print(\"Mobile:\",row.mobile)\n",
    "    print(\"Photo:\",row.photo)\n",
    "    print(\"------\"*20)"
   ]
  }
 ],
 "metadata": {
  "kernelspec": {
   "display_name": "tf_2.2",
   "language": "python",
   "name": "python3"
  },
  "language_info": {
   "codemirror_mode": {
    "name": "ipython",
    "version": 3
   },
   "file_extension": ".py",
   "mimetype": "text/x-python",
   "name": "python",
   "nbconvert_exporter": "python",
   "pygments_lexer": "ipython3",
   "version": "3.7.9"
  }
 },
 "nbformat": 4,
 "nbformat_minor": 5
}
